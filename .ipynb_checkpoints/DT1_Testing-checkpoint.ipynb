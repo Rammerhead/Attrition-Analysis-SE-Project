{
 "cells": [
  {
   "cell_type": "code",
   "execution_count": null,
   "id": "f8cefbc6-329f-4f80-ac17-6e49f981dd95",
   "metadata": {},
   "outputs": [],
   "source": [
    "import pandas as pd\n",
    "import pickle\n",
    "import numpy as np\n",
    "import matplotlib.pyplot as plt\n",
    "from sklearn import preprocessing\n",
    "from IPython.display import Image\n",
    "import matplotlib.gridspec as gridspec\n",
    "import seaborn as sns\n",
    "import warnings\n",
    "%matplotlib inline \n",
    "%config InlineBackend.figure_format = 'retina' \n",
    "pd.set_option('display.max_columns', None) \n",
    "warnings.filterwarnings('ignore')"
   ]
  },
  {
   "cell_type": "code",
   "execution_count": null,
   "id": "18a0dd4b-ef39-4e50-b3df-b258462cdc46",
   "metadata": {},
   "outputs": [],
   "source": [
    "df = pd.read_csv(\"attrition_data.csv\")\n",
    "display(df.head())"
   ]
  },
  {
   "cell_type": "code",
   "execution_count": null,
   "id": "8c8e4cd6-3023-43e8-a989-3bb17141f7ef",
   "metadata": {},
   "outputs": [],
   "source": [
    "def predict_ready(dframe):\n",
    "    dframe = dframe.drop(columns=['Over18', 'EmployeeCount', 'StandardHours', 'EmployeeNumber'])\n",
    "    for cate_features in dframe.select_dtypes(include='object').columns:\n",
    "        le = preprocessing.LabelEncoder()\n",
    "        dframe[cate_features] = le.fit_transform(dframe[cate_features])\n",
    "        #print(\"Origin Classes:\", list(le.classes_))\n",
    "\n",
    "    dummies = ['Department', 'EducationField', 'JobRole', 'MaritalStatus']\n",
    "    dframe = pd.get_dummies(data=dframe, columns=dummies)\n",
    "    #display(df.head())\n",
    "    numerical_list = ['Age', 'DailyRate', 'DistanceFromHome', 'HourlyRate', 'MonthlyIncome', 'MonthlyRate',\n",
    "                  'NumCompaniesWorked', 'PercentSalaryHike', 'TotalWorkingYears', 'TrainingTimesLastYear',\n",
    "                  'YearsAtCompany', 'YearsInCurrentRole', 'YearsSinceLastPromotion', 'YearsWithCurrManager']\n",
    "\n",
    "    std = preprocessing.StandardScaler()\n",
    "    scaled = std.fit_transform(dframe[numerical_list])\n",
    "    scaled = pd.DataFrame(scaled, columns=numerical_list)\n",
    "    for i in numerical_list:\n",
    "        dframe[i] = scaled[i]\n",
    "    std = preprocessing.StandardScaler()\n",
    "    scaled = std.fit_transform(dframe[numerical_list])\n",
    "    scaled = pd.DataFrame(scaled, columns=numerical_list)\n",
    "    for i in numerical_list:\n",
    "        dframe[i] = scaled[i]\n",
    "    #display(df.head())\n",
    "    dframe = dframe.drop(columns=['Attrition'])\n",
    "    return dframe"
   ]
  },
  {
   "cell_type": "code",
   "execution_count": null,
   "id": "5709b94c-0357-4e31-890e-28c695f2fad8",
   "metadata": {},
   "outputs": [],
   "source": []
  },
  {
   "cell_type": "code",
   "execution_count": null,
   "id": "7a456b73-21fb-4a88-8778-37c598d19a5c",
   "metadata": {},
   "outputs": [],
   "source": [
    "preprocessedData = predict_ready(df)\n",
    "display(preprocessedData.head())"
   ]
  },
  {
   "cell_type": "code",
   "execution_count": null,
   "id": "a4db63f3-e8ca-4218-935c-8022a7e1e66e",
   "metadata": {},
   "outputs": [],
   "source": [
    "file = open('decisiontree1.pkl', \"rb\")\n",
    "dt = pickle.load(file)"
   ]
  },
  {
   "cell_type": "code",
   "execution_count": null,
   "id": "2433c2a2-33cb-42ff-8a45-525fb775156c",
   "metadata": {},
   "outputs": [],
   "source": [
    "results = dt.predict(preprocessedData)\n",
    "#my_confusion_matrix(y_test, y_test_pred_tree1) # Defined before\n",
    "#tree1_auc = roc_auc_score(y_test, y_test_pred_tree1)\n",
    "#print(\"AUC:\", tree1_auc)"
   ]
  },
  {
   "cell_type": "code",
   "execution_count": null,
   "id": "3c601848-7561-41b5-a5ed-b93fe2691859",
   "metadata": {},
   "outputs": [],
   "source": [
    "res = list(results)\n",
    "exit = res.count(1)\n",
    "stay = res.count(0)\n",
    "print('Number of employees predicted to be leaving the company:',exit)\n",
    "print('Number of employees predicted to stay in the company:',stay)\n",
    "print('Attrition rate = ', (exit / stay) * 100)"
   ]
  }
 ],
 "metadata": {
  "kernelspec": {
   "display_name": "Python 3 (ipykernel)",
   "language": "python",
   "name": "python3"
  },
  "language_info": {
   "codemirror_mode": {
    "name": "ipython",
    "version": 3
   },
   "file_extension": ".py",
   "mimetype": "text/x-python",
   "name": "python",
   "nbconvert_exporter": "python",
   "pygments_lexer": "ipython3",
   "version": "3.8.10"
  }
 },
 "nbformat": 4,
 "nbformat_minor": 5
}
